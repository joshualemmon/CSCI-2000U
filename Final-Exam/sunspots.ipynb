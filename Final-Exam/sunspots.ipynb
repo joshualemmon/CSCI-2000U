{
 "cells": [
  {
   "cell_type": "code",
   "execution_count": 2,
   "metadata": {
    "collapsed": true
   },
   "outputs": [],
   "source": [
    "%matplotlib inline\n",
    "import numpy as np\n",
    "import csv\n",
    "import matplotlib.pyplot as plt\n",
    "import scipy.stats as stats"
   ]
  },
  {
   "cell_type": "code",
   "execution_count": 25,
   "metadata": {
    "collapsed": false
   },
   "outputs": [
    {
     "name": "stdout",
     "output_type": "stream",
     "text": [
      "The most recent sunspot observations were on 2015-5-31\n",
      "Statistics of daily sunspot observations(1818-present):\n",
      "Mean: 0.0\n",
      "Median: 73\n",
      "Standard deviation: 0.0\n"
     ]
    }
   ],
   "source": [
    "file = open(\"ISSN_D_tot.csv\", \"rt\")\n",
    "try:\n",
    "    reader = csv.reader(file)\n",
    "    data = []\n",
    "    for row in reader:\n",
    "        data.append(row)\n",
    "finally:\n",
    "    file.close()\n",
    "E = np.zeros(len(data), dtype=[('Date', int, 3),\n",
    "                               ('Dec', float, 1),\n",
    "                               ('Observed', int, 1),\n",
    "                               ('Unofficial',int,1)])\n",
    "y = 0\n",
    "for i in range(len(data)):\n",
    "    E['Date'][i] =int(data[i][0]),int(data[i][1]),(data[i][2])\n",
    "    E['Dec'][i] = float(data[i][3])\n",
    "    E['Observed'][i] = int(data[i][4])\n",
    "    E['Unofficial'][i] = int(data[i][5])\n",
    "    if(E['Unofficial'][i] >= 0):\n",
    "        y+=1\n",
    "#printing latest date\n",
    "print(\"The most recent sunspot observations were on \" + str(E['Date'][len(data)-1][0]) \n",
    "      + \"-\" + str(E['Date'][len(data)-1][1]) + \"-\" + str(E['Date'][len(data)-1][2]))\n",
    "\n",
    "mean = 0.0\n",
    "median = 0\n",
    "sd = 0.0\n",
    "arr = np.zeros(y, dtype=int)\n",
    "for i in range(len(data)):\n",
    "    if(E['Unofficial'][i] >= 0):\n",
    "        arr[i] = E['Observed'][i]\n",
    "#dont have time but would calculate mean, median, sd\n",
    "#then would plot with plt \n",
    "mean = mean/y\n",
    "median = E['Observed'][len(data)/2]\n",
    "\n",
    "print(\"Statistics of daily sunspot observations(1818-present):\")\n",
    "print(\"Mean: \" + str(mean))\n",
    "print(\"Median: \" + str(median))\n",
    "print(\"Standard deviation: \" + str(sd))\n",
    "\n",
    "fig = plt.figure()\n",
    "fig.title(\"Daily sunspot observations (1818 to 2014)\")\n",
    "\n",
    "#use logical indexing to plot points where unofficial measurements >=0\n",
    "#x values would be the decimal representation of the date\n",
    "#y values would be the observations\n",
    "\n",
    "plt.show()\n",
    "\n",
    "\n"
   ]
  },
  {
   "cell_type": "code",
   "execution_count": null,
   "metadata": {
    "collapsed": true
   },
   "outputs": [],
   "source": []
  }
 ],
 "metadata": {
  "kernelspec": {
   "display_name": "Python 3",
   "language": "python",
   "name": "python3"
  },
  "language_info": {
   "codemirror_mode": {
    "name": "ipython",
    "version": 3
   },
   "file_extension": ".py",
   "mimetype": "text/x-python",
   "name": "python",
   "nbconvert_exporter": "python",
   "pygments_lexer": "ipython3",
   "version": "3.4.3"
  }
 },
 "nbformat": 4,
 "nbformat_minor": 0
}
