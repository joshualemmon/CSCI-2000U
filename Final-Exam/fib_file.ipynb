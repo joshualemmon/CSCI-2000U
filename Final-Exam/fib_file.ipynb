{
 "cells": [
  {
   "cell_type": "code",
   "execution_count": 19,
   "metadata": {
    "collapsed": false
   },
   "outputs": [],
   "source": [
    "import numpy as np\n",
    "def fib_file(n, fname):\n",
    "    values = np.zeros(n+1, dtype=int)\n",
    "    values[0] = 0\n",
    "    values[1] = 1\n",
    "    fib = _fib(0, n, values)\n",
    "    writer = open(fname+'_'+str(n)+'.txt','w')\n",
    "    writer.write('n\\tF_n\\n')\n",
    "    for i in range(len(fib)):\n",
    "        writer.write(str(i)+'\\t'+str(fib[i])+'\\n')\n",
    "    writer.close()\n",
    "def _fib(c, n,values):\n",
    "    if(c == n):\n",
    "        values[c] = int(values[c-1] + values[c-2])\n",
    "        return values\n",
    "    if(c == 0 or c == 1):\n",
    "        return _fib(c+1, n, values)\n",
    "    values[c] = int(values[c-1] + values[c-2])\n",
    "    return _fib(c+1, n, values)\n",
    "#help instructions: fib_file takes an integer n and a string fname, and calulates the fibonacci sequence\n",
    "#of the integer. Then it outputs the sequence to a file with a name of fname_n.txt\n",
    "fib_file(6,'fib')\n",
    "        "
   ]
  },
  {
   "cell_type": "code",
   "execution_count": null,
   "metadata": {
    "collapsed": true
   },
   "outputs": [],
   "source": []
  }
 ],
 "metadata": {
  "kernelspec": {
   "display_name": "Python 3",
   "language": "python",
   "name": "python3"
  },
  "language_info": {
   "codemirror_mode": {
    "name": "ipython",
    "version": 3
   },
   "file_extension": ".py",
   "mimetype": "text/x-python",
   "name": "python",
   "nbconvert_exporter": "python",
   "pygments_lexer": "ipython3",
   "version": "3.4.3"
  }
 },
 "nbformat": 4,
 "nbformat_minor": 0
}
