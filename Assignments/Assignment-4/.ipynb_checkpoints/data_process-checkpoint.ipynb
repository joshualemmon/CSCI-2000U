{
 "cells": [
  {
   "cell_type": "code",
   "execution_count": 56,
   "metadata": {
    "collapsed": false
   },
   "outputs": [
    {
     "name": "stdout",
     "output_type": "stream",
     "text": [
      "Populating the interactive namespace from numpy and matplotlib\n",
      "57394\n",
      "(1704243023, 1081165960)\n",
      "35\n"
     ]
    }
   ],
   "source": [
    "%pylab inline\n",
    "import struct\n",
    "\n",
    "with open('../../Large_Data/halo.dat', mode ='rb') as file:\n",
    "    filecontent = file.readline()\n",
    "    N_halo = struct.unpack(\"i\", filecontent[:4])[0]\n",
    "    T_halo = struct.unpack(\"ii\", filecontent[4:12])\n",
    "    print(N_halo)\n",
    "    print(T_halo)\n",
    "    print(len(filecontent)//4)\n",
    "    struct.unpack(\"i\" * ((len(filecontent)-12)//4), filecontent[12:-2])\n",
    "\n",
    "\n"
   ]
  },
  {
   "cell_type": "code",
   "execution_count": 55,
   "metadata": {
    "collapsed": false
   },
   "outputs": [
    {
     "name": "stdout",
     "output_type": "stream",
     "text": [
      "2097152\n",
      "(1704243023, 1081165960)\n",
      "210\n"
     ]
    }
   ],
   "source": [
    "import struct\n",
    "\n",
    "with open('../../Large_Data/snapshot_010.dat', mode ='rb') as file:\n",
    "    filecontent = file.readline()\n",
    "    N_010 = struct.unpack(\"i\", filecontent[:4])[0]\n",
    "    T_010 = struct.unpack(\"ii\", filecontent[4:12])\n",
    "    print(N_010)\n",
    "    print(T_010)\n",
    "    print(len(filecontent)//4)\n",
    "    struct.unpack(\"i\" * ((len(filecontent)-12)//4), filecontent[12:-3])"
   ]
  },
  {
   "cell_type": "code",
   "execution_count": null,
   "metadata": {
    "collapsed": true
   },
   "outputs": [],
   "source": []
  }
 ],
 "metadata": {
  "kernelspec": {
   "display_name": "Python 3",
   "language": "python",
   "name": "python3"
  },
  "language_info": {
   "codemirror_mode": {
    "name": "ipython",
    "version": 3
   },
   "file_extension": ".py",
   "mimetype": "text/x-python",
   "name": "python",
   "nbconvert_exporter": "python",
   "pygments_lexer": "ipython3",
   "version": "3.4.3"
  }
 },
 "nbformat": 4,
 "nbformat_minor": 0
}
