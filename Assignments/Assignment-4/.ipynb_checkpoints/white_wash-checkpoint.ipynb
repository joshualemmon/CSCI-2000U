{
 "cells": [
  {
   "cell_type": "code",
   "execution_count": null,
   "metadata": {
    "collapsed": false
   },
   "outputs": [],
   "source": [
    "import numpy as np\n",
    "def WhiteWash(colourMap, rows):\n",
    "    for i in range(rows):\n",
    "        colourMap[i][0] = (colourMap[i][0]+1)/2\n",
    "        colourMap[i][1] = (colourMap[i][1]+1)/2\n",
    "        colourMap[i][2] = (colourMap[i][2]+1)/2\n",
    "    return colourMap\n",
    "\n",
    "rows = int(input(\"Enter number of rows in colour map: \"))\n",
    "colourMap = np.zeros(shape=(rows,3))\n",
    "numbers = []\n",
    "\n",
    "print(\"Enter 3 values between 0 and 1 for each row\")\n",
    "for i in range(rows):\n",
    "    numbers = input().split(\" \")\n",
    "    if len(numbers) != 3:\n",
    "        print(\"Error, please input 3 numbers\")\n",
    "        numbers = input().split(\" \")\n",
    "        numbers = float(numbers)\n",
    "        \n",
    "    numbers[0] = float(numbers[0])\n",
    "    numbers[1] = float(numbers[1])\n",
    "    numbers[2] = float(numbers[2])\n",
    "    \n",
    "    for x in range(3):\n",
    "        if numbers[x] > 1 or numbers[x] < 0:\n",
    "            print(\"Error, \" + str(numbers[x]) + \" is not between 0 and 1\")\n",
    "            numbers[x] = float(input(\"Please enter a value between 0 and 1: \"))\n",
    "            \n",
    "    colourMap[i] = numbers\n",
    "    \n",
    "newMap = WhiteWash(colourMap, rows)\n",
    "\n",
    "print(\"White washed values: \")\n",
    "print(newMap)        "
   ]
  }
 ],
 "metadata": {
  "kernelspec": {
   "display_name": "Python 3",
   "language": "python",
   "name": "python3"
  },
  "language_info": {
   "codemirror_mode": {
    "name": "ipython",
    "version": 3
   },
   "file_extension": ".py",
   "mimetype": "text/x-python",
   "name": "python",
   "nbconvert_exporter": "python",
   "pygments_lexer": "ipython3",
   "version": "3.4.3"
  }
 },
 "nbformat": 4,
 "nbformat_minor": 0
}
