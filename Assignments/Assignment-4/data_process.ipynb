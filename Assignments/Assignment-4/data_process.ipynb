{
 "cells": [
  {
   "cell_type": "code",
   "execution_count": 118,
   "metadata": {
    "collapsed": false
   },
   "outputs": [
    {
     "name": "stdout",
     "output_type": "stream",
     "text": [
      "Populating the interactive namespace from numpy and matplotlib\n"
     ]
    },
    {
     "name": "stderr",
     "output_type": "stream",
     "text": [
      "WARNING: pylab import has clobbered these variables: ['histogram']\n",
      "`%matplotlib` prevents importing * from pylab and numpy\n"
     ]
    }
   ],
   "source": [
    "%pylab inline\n",
    "import struct\n",
    "import numpy as np\n",
    "import matplotlib.pyplot as plt\n",
    "from scipy import stats"
   ]
  },
  {
   "cell_type": "code",
   "execution_count": 120,
   "metadata": {
    "collapsed": false
   },
   "outputs": [
    {
     "data": {
      "image/png": "[encoded data removed]",
      "text/plain": [
       "<matplotlib.figure.Figure at 0x7f740f0124a8>"
      ]
     },
     "metadata": {},
     "output_type": "display_data"
    }
   ],
   "source": [
    "def speed(list):\n",
    "    return (list[4]**2+list[5]**2+list[6]**2)**0.5\n",
    "\n",
    "with open('../../Large_Data/halo.dat', mode ='rb') as file:\n",
    "    filecontent = file.read()\n",
    "    #getting number of particles\n",
    "    N_halo = struct.unpack(\"i\", filecontent[:4])[0]\n",
    "    #getting time of snapshot\n",
    "    T_halo = struct.unpack(\"d\", filecontent[4:12])[0]\n",
    "    #getting rest of data\n",
    "    data = struct.unpack(\"f\"*((len(filecontent)-12)//4), filecontent[12:])\n",
    "    i = 0\n",
    "    data_halo = np.zeros(shape=(N_halo,7))\n",
    "    for x in range(len(data)):\n",
    "        data_halo[i][x%7] = data[x]\n",
    "        if x%7 == 6:\n",
    "            i += 1\n",
    "v_halo = np.zeros(N_halo)\n",
    "#getting speeds of particle vectors\n",
    "for i in range(N_halo):\n",
    "    v_halo[i] = speed(data_halo[i])\n",
    "n, bins, patches = plt.hist(v_halo, 50, normed=1, facecolor='green', alpha=.75)\n",
    "bins = 0.5*(bins[1:] + bins[:-1])\n",
    "\n",
    "plt.title(\"Velocity histogram(halo)-100555320\")\n",
    "plt.xlabel(\"Speed (m/s)\")\n",
    "plt.ylabel(\"Probability of speed\")\n",
    "plt.axis([0,65,0,.1])\n",
    "plt.show()"
   ]
  },
  {
   "cell_type": "code",
   "execution_count": 122,
   "metadata": {
    "collapsed": false
   },
   "outputs": [
    {
     "data": {
      "image/png": "[encoded data removed]",
      "text/plain": [
       "<matplotlib.figure.Figure at 0x7f73fcd60400>"
      ]
     },
     "metadata": {},
     "output_type": "display_data"
    }
   ],
   "source": [
    "def speed(list):\n",
    "    return (list[4]**2+list[5]**2+list[6]**2)**0.5\n",
    "\n",
    "with open('../../Large_Data/snapshot_010.dat', mode ='rb') as file:\n",
    "    filecontent = file.read()\n",
    "    #getting number of particles\n",
    "    N_010 = struct.unpack(\"i\", filecontent[:4])[0]\n",
    "    #getting time of snapshot\n",
    "    T_010 = struct.unpack(\"d\", filecontent[4:12])[0]\n",
    "    #getting rest of data\n",
    "    data = struct.unpack(\"f\"*((len(filecontent)-12)//4), filecontent[12:])\n",
    "    i = 0\n",
    "    data_010 = np.zeros(shape=(N_010,7))\n",
    "    for x in range(len(data)):\n",
    "        data_010[i][x%7] = data[x]\n",
    "        if x%7 == 6:\n",
    "            i += 1\n",
    "v_010 = np.zeros(N_010)\n",
    "#getting speeds of particle vectors\n",
    "for i in range(N_010):\n",
    "    v_010[i] = speed(data_010[i])\n",
    "n, bins, patches =plt.hist(v_010, 50, normed=1, facecolor='green', alpha=0.75)\n",
    "bins = 0.5*(bins[1:] + bins[:-1])\n",
    "\n",
    "plt.title(\"Velocity histogram(010)-100555320\")\n",
    "plt.xlabel(\"Speed (m/s)\")\n",
    "plt.ylabel(\"Probability\")\n",
    "plt.axis([0,65,0,.1])\n",
    "plt.show()"
   ]
  },
  {
   "cell_type": "code",
   "execution_count": null,
   "metadata": {
    "collapsed": true
   },
   "outputs": [],
   "source": []
  }
 ],
 "metadata": {
  "kernelspec": {
   "display_name": "Python 3",
   "language": "python",
   "name": "python3"
  },
  "language_info": {
   "codemirror_mode": {
    "name": "ipython",
    "version": 3
   },
   "file_extension": ".py",
   "mimetype": "text/x-python",
   "name": "python",
   "nbconvert_exporter": "python",
   "pygments_lexer": "ipython3",
   "version": "3.4.3"
  }
 },
 "nbformat": 4,
 "nbformat_minor": 0
}
