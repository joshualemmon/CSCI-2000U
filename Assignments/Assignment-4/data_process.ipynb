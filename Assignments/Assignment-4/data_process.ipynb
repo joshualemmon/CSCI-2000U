{
 "cells": [
  {
   "cell_type": "code",
   "execution_count": 12,
   "metadata": {
    "collapsed": false
   },
   "outputs": [
    {
     "name": "stdout",
     "output_type": "stream",
     "text": [
      "Populating the interactive namespace from numpy and matplotlib\n"
     ]
    }
   ],
   "source": [
    "%pylab inline"
   ]
  },
  {
   "cell_type": "code",
   "execution_count": 40,
   "metadata": {
    "collapsed": false
   },
   "outputs": [
    {
     "name": "stdout",
     "output_type": "stream",
     "text": [
      "b'2\\xe0\\x00\\x00O\\xaf\\x94e\\x88Hq@\\x89\\xe8\\x0eAb\\x19\\x11>`A\\xdc\\xbe$\\x99=?\\xf6R\\xb0\\xbf\\x10{\\xc2\\xbf\\xbe\\xf5q\\xc0\\x89\\xe8\\x0eAY\\xe6\\x1a?\\x04\\xf5y=\\xdc\\x86\"\\xbf\\xb6`q?\\xe7\\x03\\xd7\\xc0B\\xad\\xa4@\\x89\\xe8\\x0eAY\\x06M?\\xb0\\xe0.\\xbf\\x91\\xa4G>\\xad`\\x80?L\\xbf\\x88\\xc0\\xdcN\\xa1?\\x89\\xe8\\x0eA\\xd4\\x0c\\x9f\\xbf>P\\x1f;\\xb7m\\xa9\\xbe\\xce!5@\\x8c\\x08\\x05\\xc1\\x98\\x0c\\x84@\\x89\\xe8\\x0eA\\xa7\\xf9\\x17\\xbf\\xa8\\x8f\\xad?Hr\\x8d>\\x1d\\n'\n",
      "57394\n",
      "276.5333\n"
     ]
    }
   ],
   "source": [
    "import struct\n",
    "import numpy as np\n",
    "\n",
    "with open('../../Large_Data/halo.dat', mode ='rb') as file:\n",
    "    filecontent = file.readline()\n",
    "    N_halo = struct.unpack(\"i\", filecontent[:4])[0]\n",
    "    print(filecontent)\n",
    "    print(N_halo)\n",
    "    T_halo = struct.unpack(\"d\", filecontent[4:12])[0]\n",
    "    print(T_halo)\n",
    "    #data_halo = np.zeros(shape=(7,N_halo))\n",
    "    #i = 0\n",
    "    #data = struct.unpack(\"f\"*((len(filecontent)-12)//4), filecontent[12:])\n",
    "    #print(data)"
   ]
  },
  {
   "cell_type": "code",
   "execution_count": 5,
   "metadata": {
    "collapsed": false
   },
   "outputs": [
    {
     "name": "stdout",
     "output_type": "stream",
     "text": [
      "[ 0.  0.  0.  0.  0.  0.  0.  0.  0.  0.  0.  0.  0.  0.  0.  0.  0.  0.\n",
      "  0.  0.  0.  0.  0.  0.  0.  0.  0.  0.  0.  0.  0.  0.  0.  0.  0.  0.\n",
      "  0.  0.  0.  0.  0.  0.  0.  0.  0.  0.  0.  0.  0.  0.]\n",
      "2097152\n",
      "(1704243023, 1081165960)\n",
      "210\n"
     ]
    }
   ],
   "source": [
    "with open('../../Large_Data/snapshot_010.dat', mode ='rb') as file:\n",
    "    filecontent = file.readline()\n",
    "    N_010 = struct.unpack(\"i\", filecontent[:4])[0]\n",
    "    T_010 = struct.unpack(\"ii\", filecontent[4:12])\n",
    "    print(N_010)\n",
    "    print(T_010)\n",
    "    print(len(filecontent)//4)\n",
    "    struct.unpack(\"i\" * ((len(filecontent)-12)//4), filecontent[12:-3])"
   ]
  },
  {
   "cell_type": "code",
   "execution_count": null,
   "metadata": {
    "collapsed": true
   },
   "outputs": [],
   "source": []
  }
 ],
 "metadata": {
  "kernelspec": {
   "display_name": "Python 3",
   "language": "python",
   "name": "python3"
  },
  "language_info": {
   "codemirror_mode": {
    "name": "ipython",
    "version": 3
   },
   "file_extension": ".py",
   "mimetype": "text/x-python",
   "name": "python",
   "nbconvert_exporter": "python",
   "pygments_lexer": "ipython3",
   "version": "3.4.3"
  }
 },
 "nbformat": 4,
 "nbformat_minor": 0
}
