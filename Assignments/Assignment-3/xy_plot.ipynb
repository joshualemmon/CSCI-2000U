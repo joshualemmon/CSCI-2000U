{
 "cells": [
  {
   "cell_type": "code",
   "execution_count": 82,
   "metadata": {
    "collapsed": false
   },
   "outputs": [
    {
     "name": "stdout",
     "output_type": "stream",
     "text": [
      "[False False False False  True False  True  True  True False False  True\n",
      "  True  True False False  True False False False False False  True  True\n",
      "  True  True  True  True False False False False  True False False False\n",
      "  True  True False False False False False  True  True False  True  True\n",
      " False  True False False False False False False False False False False\n",
      " False  True False  True  True False False  True  True  True  True  True\n",
      " False  True  True False  True False  True  True  True  True  True False\n",
      " False False False False  True  True  True False  True False  True  True\n",
      " False False False False]\n",
      "[False False False False  True  True False False False False False False\n",
      " False False False False  True  True False False False False False  True\n",
      "  True  True False False False False  True False False  True  True False\n",
      " False False  True  True False False False False False False False False\n",
      " False False False False False False  True  True False False False  True\n",
      " False False False  True False False  True False False  True  True False\n",
      " False  True False  True False False False False False False False  True\n",
      " False False  True False False False  True False False False False False\n",
      " False  True  True False]\n"
     ]
    }
   ],
   "source": [
    "import matplotlib.pyplot as plt\n",
    "import numpy as np\n",
    "#uses python 2, otherwise logical indexing wasnt working\n",
    "\n",
    "x=np.array([])\n",
    "y=np.array([])\n",
    "\n",
    "def dist(x,y):\n",
    "    r = np.array([])\n",
    "    for i in range(0,100):\n",
    "        t = (x[i]**2+(y[i]-5)**2)**0.5\n",
    "        r = np.append(r, t)\n",
    "    return r\n",
    "\n",
    "#getting plot points\n",
    "#with open('xy_points.dat') as f:\n",
    " #   line = f.readline()\n",
    "  #  x = line.split()\n",
    "   # line = f.readline()\n",
    "   # y = line.split()\n",
    "values = np.fromfile('xy_points.dat', dtype=float, count=-1, sep=' ')\n",
    "x=values[0:100]\n",
    "y=values[100:200]\n",
    "\n",
    "x2 = x <-2\n",
    "y2 = np.logical_and(y<=0,y>=-5)\n",
    "print x2\n",
    "print y2\n",
    "\n",
    "#getting distances\n",
    "distances = dist(x,y)\n",
    "\n",
    "#setting the figure and plot\n",
    "fig=plt.figure(1, figsize=(15,15))\n",
    "plt.axis([-10.1,10.1,-10.1,10.1])\n",
    "plt.title(\"Highlighted Points (100555320)\")\n",
    "ax =fig.add_subplot(1,1,1)\n",
    "#creating circle of r=5 centered at 0,5\n",
    "circ=plt.Circle((0,5),5, color='g', fill=False)\n",
    "#plotting\n",
    "ax.add_patch(circ)\n",
    "plt.plot(x,y,'ro')\n",
    "plt.plot(x[distances<5],y[distances<5],'go')\n",
    "plt.plot(x[np.logical_and(x2,y2)],y[np.logical_and(x2,y2)],'bo')\n",
    "\n",
    "\n",
    "\n",
    "\n",
    "\n",
    "plt.show()\n",
    "    \n",
    "    \n"
   ]
  },
  {
   "cell_type": "code",
   "execution_count": null,
   "metadata": {
    "collapsed": true
   },
   "outputs": [],
   "source": []
  },
  {
   "cell_type": "code",
   "execution_count": null,
   "metadata": {
    "collapsed": true
   },
   "outputs": [],
   "source": []
  }
 ],
 "metadata": {
  "kernelspec": {
   "display_name": "Python 2",
   "language": "python",
   "name": "python2"
  },
  "language_info": {
   "codemirror_mode": {
    "name": "ipython",
    "version": 2
   },
   "file_extension": ".py",
   "mimetype": "text/x-python",
   "name": "python",
   "nbconvert_exporter": "python",
   "pygments_lexer": "ipython2",
   "version": "2.7.10"
  }
 },
 "nbformat": 4,
 "nbformat_minor": 0
}
