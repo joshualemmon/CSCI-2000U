{
 "cells": [
  {
   "cell_type": "code",
   "execution_count": 58,
   "metadata": {
    "collapsed": false
   },
   "outputs": [],
   "source": [
    "import matplotlib.pyplot as plt\n",
    "import matplotlib.patches as mp\n",
    "from matplotlib import rc\n",
    "\n",
    "toronto =[]\n",
    "montreal = []\n",
    "vancouver = []\n",
    "xvals = [1,2,3,4,5,6,7,8,9,10,11,12]\n",
    "#getting data to plot\n",
    "months = ['JAN', 'FEB', 'MAR', 'APR', 'MAY', 'JUN', 'JUL', 'AUG', 'SEP', 'OCT', 'NOV', 'DEC']\n",
    "with open(\"toronto_temperature_2012.dat\") as f:\n",
    "    for line in f:\n",
    "        toronto.append(float(line))\n",
    "with open(\"montreal_temperature_2012.dat\") as f:\n",
    "    for line in f:\n",
    "        montreal.append(float(line))\n",
    "with open(\"vancouver_temperature_2012.dat\") as f:\n",
    "    for line in f:\n",
    "        vancouver.append(float(line))\n",
    "\n",
    "#making figure larger\n",
    "plt.figure(figsize=(10,10)) \n",
    "\n",
    "#formatting latex\n",
    "plt.rc('text',usetex=True)\n",
    "plt.rc('font',family='serif')\n",
    "\n",
    "#Creating legend\n",
    "plt.plot(xvals, toronto)#blue line\n",
    "plt.plot(xvals,montreal)#green line\n",
    "plt.plot(xvals,vancouver) #red line\n",
    "blue_line =mp.Patch(color='blue',label='Toronto')\n",
    "green_line =mp.Patch(color='green',label='Montreal')\n",
    "red_line =mp.Patch(color='red',label='Vancouver')\n",
    "plt.legend(handles=[blue_line,green_line,red_line])\n",
    "\n",
    "#formatting axis\n",
    "plt.title(r'\\textbf{2012 Average Monthly Temperatures (100555320)}')\n",
    "\n",
    "#formating axis labels and ticks\n",
    "plt.axis([1, 12, -10, 35])\n",
    "plt.xlabel(r'\\textit{Months}', fontsize=16)\n",
    "plt.xticks(x,months,rotation='horizontal')\n",
    "plt.ylabel(r'\\textit{Temperature} (\\textdegree\\textit{C})',fontsize=16)\n",
    "\n",
    "\n",
    "plt.show()\n"
   ]
  },
  {
   "cell_type": "code",
   "execution_count": null,
   "metadata": {
    "collapsed": true
   },
   "outputs": [],
   "source": []
  }
 ],
 "metadata": {
  "kernelspec": {
   "display_name": "Python 3",
   "language": "python",
   "name": "python3"
  },
  "language_info": {
   "codemirror_mode": {
    "name": "ipython",
    "version": 3
   },
   "file_extension": ".py",
   "mimetype": "text/x-python",
   "name": "python",
   "nbconvert_exporter": "python",
   "pygments_lexer": "ipython3",
   "version": "3.4.3"
  }
 },
 "nbformat": 4,
 "nbformat_minor": 0
}
