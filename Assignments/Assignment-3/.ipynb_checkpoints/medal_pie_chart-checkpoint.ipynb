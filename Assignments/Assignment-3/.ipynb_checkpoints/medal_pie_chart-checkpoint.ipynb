{
 "cells": [
  {
   "cell_type": "code",
   "execution_count": 1,
   "metadata": {
    "collapsed": false
   },
   "outputs": [],
   "source": [
    "import matplotlib.pyplot as plt\n",
    "\n",
    "#creating parameters for the chart\n",
    "labels = 'USA', 'CHN', 'GBR', 'RUS', 'KOR', 'GER', 'FRA', 'ITA', 'HUN', 'AUS', 'OTHER'\n",
    "sizes = [46, 38, 29, 24, 13, 11, 11, 8, 8, 7, 107]\n",
    "#colors similar to flag color of respective country\n",
    "colors = ['darkblue', 'darkred', 'royalblue', 'red', 'dodgerblue', 'darkorange', 'lightblue', 'lime', 'darkgreen', 'midnightblue', 'indigo' ]\n",
    "#making largest value pop out\n",
    "explode =(0, 0, 0, 0, 0, 0 ,0 ,0 ,0 ,0, 0.1)\n",
    "\n",
    "#formatting chart\n",
    "plt.pie(sizes, explode=explode, labels=labels, colors=colors, autopct='%1.1f%%', shadow=True, startangle=90)\n",
    "plt.axis('equal')\n",
    "\n",
    "#formatting the title\n",
    "plt.title(\"2012 Olympic gold medals (100555320)\")\n",
    "\n",
    "#creating the chart\n",
    "plt.show()"
   ]
  }
 ],
 "metadata": {
  "kernelspec": {
   "display_name": "Python 3",
   "language": "python",
   "name": "python3"
  },
  "language_info": {
   "codemirror_mode": {
    "name": "ipython",
    "version": 3
   },
   "file_extension": ".py",
   "mimetype": "text/x-python",
   "name": "python",
   "nbconvert_exporter": "python",
   "pygments_lexer": "ipython3",
   "version": "3.4.3"
  }
 },
 "nbformat": 4,
 "nbformat_minor": 0
}
