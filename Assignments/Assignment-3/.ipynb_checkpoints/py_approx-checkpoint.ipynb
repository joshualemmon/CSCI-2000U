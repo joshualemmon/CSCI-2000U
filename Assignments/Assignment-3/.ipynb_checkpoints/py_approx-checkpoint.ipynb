{
 "cells": [
  {
   "cell_type": "code",
   "execution_count": 1,
   "metadata": {
    "collapsed": false
   },
   "outputs": [
    {
     "name": "stdout",
     "output_type": "stream",
     "text": [
      "when n = 10, rho_n = 3.25236593472\n",
      "when n = 10, tau_n = 3.03950758956\n",
      "when n = 10, mu_n = 3.14131203958\n",
      "when n = 100, rho_n = 3.15169340607\n",
      "when n = 100, tau_n = 3.13198074724\n",
      "when n = 100, mu_n = 3.14159240805\n",
      "when n = 1000, rho_n = 3.14259365434\n",
      "when n = 1000, tau_n = 3.14063710099\n",
      "when n = 1000, mu_n = 3.14159265335\n",
      "when n = 10000, rho_n = 3.14169266359\n",
      "when n = 10000, tau_n = 3.14149715440\n",
      "when n = 10000, mu_n = 3.14159265359\n",
      "when n = 100000, rho_n = 3.14160265369\n",
      "when n = 100000, tau_n = 3.14158310423\n",
      "when n = 100000, mu_n = 3.14159265359\n",
      "when n = 1000000, rho_n = 3.14159365359\n",
      "when n = 1000000, tau_n = 3.14159169866\n",
      "when n = 1000000, mu_n = 3.14159265359\n"
     ]
    }
   ],
   "source": [
    "import numpy as np\n",
    "\n",
    "#defining the rho function\n",
    "def rho_n(n):\n",
    "    sum = 0.0\n",
    "    for i in range(1,n):\n",
    "        sum = sum + np.power(-1,i+1)/(2*i-1) \n",
    "    return 4*sum\n",
    "\n",
    "#defining the tau function\n",
    "def tau_n(n):\n",
    "    sum = 0.0\n",
    "    for i in range(1,n):\n",
    "        sum = sum + 1/np.power(i,2)\n",
    "    return np.power(6*sum,0.5)\n",
    "\n",
    "#defining the mu function\n",
    "def mu_n(n):\n",
    "    sum = 0.0\n",
    "    for i in range(1,n):\n",
    "        sum = sum + 1/np.power(i,4)\n",
    "    return np.power(90*sum,0.25)\n",
    "\n",
    "n = 10\n",
    "#system has runtime error when n equals 1000000 in the mu function\n",
    "#getting rid of runtime error message, since value still computes correctly\n",
    "with np.errstate(invalid='ignore'):\n",
    "    while n < 1000001:\n",
    "        print(\"when n = %d, rho_n = %1.11f\" % (n,rho_n(n)))\n",
    "        print(\"when n = %d, tau_n = %1.11f\" % (n,tau_n(n)))\n",
    "        print(\"when n = %d, mu_n = %1.11f\" % (n,mu_n(n)))\n",
    "        n = n*10\n",
    "    "
   ]
  },
  {
   "cell_type": "code",
   "execution_count": null,
   "metadata": {
    "collapsed": true
   },
   "outputs": [],
   "source": []
  }
 ],
 "metadata": {
  "kernelspec": {
   "display_name": "Python 3",
   "language": "python",
   "name": "python3"
  },
  "language_info": {
   "codemirror_mode": {
    "name": "ipython",
    "version": 3
   },
   "file_extension": ".py",
   "mimetype": "text/x-python",
   "name": "python",
   "nbconvert_exporter": "python",
   "pygments_lexer": "ipython3",
   "version": "3.4.3"
  }
 },
 "nbformat": 4,
 "nbformat_minor": 0
}
